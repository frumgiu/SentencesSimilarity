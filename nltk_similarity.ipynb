{
 "cells": [
  {
   "metadata": {
    "ExecuteTime": {
     "end_time": "2024-09-29T13:44:23.144671Z",
     "start_time": "2024-09-29T13:44:23.140931Z"
    }
   },
   "cell_type": "code",
   "source": [
    "import numpy as np\n",
    "import pandas as pd\n",
    "import nltk\n",
    "from nltk.corpus import stopwords\n",
    "from gensim.models import Doc2Vec\n",
    "from gensim.models.doc2vec import TaggedDocument\n",
    "from sklearn.metrics.pairwise import cosine_similarity"
   ],
   "id": "8fc166398c94676e",
   "outputs": [],
   "execution_count": 17
  },
  {
   "metadata": {
    "ExecuteTime": {
     "end_time": "2024-09-29T13:44:23.158438Z",
     "start_time": "2024-09-29T13:44:23.155503Z"
    }
   },
   "cell_type": "code",
   "source": [
    "path_indoor_distance = \"Datasets/34B-IndoorDistance.csv\"\n",
    "path_indoor_nodistance = \"Datasets/34B-IndoorNoDistance.csv\"\n",
    "\n",
    "stop_words = set(stopwords.words('english'))"
   ],
   "id": "167e1b317caae6b7",
   "outputs": [],
   "execution_count": 18
  },
  {
   "metadata": {
    "ExecuteTime": {
     "end_time": "2024-09-29T13:44:23.170639Z",
     "start_time": "2024-09-29T13:44:23.166159Z"
    }
   },
   "cell_type": "code",
   "source": [
    "def load_data(file_path):\n",
    "    t = pd.read_csv(file_path)\n",
    "    return t\n",
    "\n",
    "def similarity_nltk(t):\n",
    "    r = pd.DataFrame(columns=['Name', 'Similarity_1', 'Similarity_2', 'Similarity_3', \"Average\"])\n",
    "    for index, row in t.iterrows():\n",
    "        sentences = [row['Answer_1'], row['Answer_2'], row['Answer_3']]\n",
    "        query = row['Expected_answer']\n",
    "        \n",
    "        tokenized_sentences = [nltk.word_tokenize(sentence.lower()) for sentence in sentences]\n",
    "        tokenized_sentences = [[word for word in sentence if word not in stop_words] for sentence in tokenized_sentences]\n",
    "        tokenized_query = nltk.word_tokenize(query.lower())\n",
    "        tokenized_query = [word for word in tokenized_query if word not in stop_words]\n",
    "        tagged_sentences = [TaggedDocument(words=sentence, tags=[i]) for i, sentence in enumerate(tokenized_sentences)]\n",
    "        \n",
    "        max_epochs = 100\n",
    "        vec_size = 10\n",
    "        alpha = 0.005\n",
    "        m = Doc2Vec(vector_size=vec_size,alpha=alpha,min_alpha=0.00025,min_count=1,dm =1)\n",
    "        m.build_vocab(tagged_sentences)\n",
    "        for epoch in range(max_epochs):\n",
    "            #print('iteration {0}'.format(epoch))\n",
    "            m.train(tagged_sentences,total_examples=m.corpus_count,epochs=m.epochs)\n",
    "            m.alpha -= 0.0002\n",
    "            m.min_alpha = m.alpha\n",
    "\n",
    "        query_vec = m.infer_vector(tokenized_query)\n",
    "        sentence_vecs = [m.dv[i] for i in range(len(sentences))]\n",
    "        similarities = cosine_similarity([query_vec], sentence_vecs)\n",
    "        r.loc[index] = [row[\"Name\"], similarities[0][0], similarities[0][1], similarities[0][2], my_mean(similarities)]\n",
    "    return r\n",
    "\n",
    "def my_mean(s):\n",
    "    return (s[0][0] + s[0][1] + s[0][2])/3 "
   ],
   "id": "8d5f78bc6f2ecf40",
   "outputs": [],
   "execution_count": 19
  },
  {
   "metadata": {
    "ExecuteTime": {
     "end_time": "2024-09-29T13:44:23.182124Z",
     "start_time": "2024-09-29T13:44:23.179357Z"
    }
   },
   "cell_type": "code",
   "source": "d1 = load_data(path_indoor_distance)",
   "id": "d7101600b0cc74d1",
   "outputs": [],
   "execution_count": 20
  },
  {
   "metadata": {
    "ExecuteTime": {
     "end_time": "2024-09-29T13:44:25.126013Z",
     "start_time": "2024-09-29T13:44:23.188343Z"
    }
   },
   "cell_type": "code",
   "source": [
    "result_nltk = similarity_nltk(d1)\n",
    "result_nltk"
   ],
   "id": "a157490eb26d4211",
   "outputs": [
    {
     "data": {
      "text/plain": [
       "     Name  Similarity_1  Similarity_2  Similarity_3   Average\n",
       "0   IYD_0      0.986927      0.987201      0.985248  0.986459\n",
       "1   IYD_1      0.966451      0.960747      0.958815  0.962004\n",
       "2   IYD_2      0.917935      0.924941      0.917673  0.920183\n",
       "3   IYD_3      0.809241      0.816884      0.810377  0.812167\n",
       "4   IYD_4      0.842260      0.844779      0.867817  0.851618\n",
       "5   IYD_5      0.986393      0.984638      0.986133  0.985721\n",
       "6  IYD_P0      0.302249      0.311547      0.290358  0.301385\n",
       "7  IYD_P1      0.995294      0.995800      0.995310  0.995468\n",
       "8  IYD_P2      0.997446      0.997724      0.996914  0.997361"
      ],
      "text/html": [
       "<div>\n",
       "<style scoped>\n",
       "    .dataframe tbody tr th:only-of-type {\n",
       "        vertical-align: middle;\n",
       "    }\n",
       "\n",
       "    .dataframe tbody tr th {\n",
       "        vertical-align: top;\n",
       "    }\n",
       "\n",
       "    .dataframe thead th {\n",
       "        text-align: right;\n",
       "    }\n",
       "</style>\n",
       "<table border=\"1\" class=\"dataframe\">\n",
       "  <thead>\n",
       "    <tr style=\"text-align: right;\">\n",
       "      <th></th>\n",
       "      <th>Name</th>\n",
       "      <th>Similarity_1</th>\n",
       "      <th>Similarity_2</th>\n",
       "      <th>Similarity_3</th>\n",
       "      <th>Average</th>\n",
       "    </tr>\n",
       "  </thead>\n",
       "  <tbody>\n",
       "    <tr>\n",
       "      <th>0</th>\n",
       "      <td>IYD_0</td>\n",
       "      <td>0.986927</td>\n",
       "      <td>0.987201</td>\n",
       "      <td>0.985248</td>\n",
       "      <td>0.986459</td>\n",
       "    </tr>\n",
       "    <tr>\n",
       "      <th>1</th>\n",
       "      <td>IYD_1</td>\n",
       "      <td>0.966451</td>\n",
       "      <td>0.960747</td>\n",
       "      <td>0.958815</td>\n",
       "      <td>0.962004</td>\n",
       "    </tr>\n",
       "    <tr>\n",
       "      <th>2</th>\n",
       "      <td>IYD_2</td>\n",
       "      <td>0.917935</td>\n",
       "      <td>0.924941</td>\n",
       "      <td>0.917673</td>\n",
       "      <td>0.920183</td>\n",
       "    </tr>\n",
       "    <tr>\n",
       "      <th>3</th>\n",
       "      <td>IYD_3</td>\n",
       "      <td>0.809241</td>\n",
       "      <td>0.816884</td>\n",
       "      <td>0.810377</td>\n",
       "      <td>0.812167</td>\n",
       "    </tr>\n",
       "    <tr>\n",
       "      <th>4</th>\n",
       "      <td>IYD_4</td>\n",
       "      <td>0.842260</td>\n",
       "      <td>0.844779</td>\n",
       "      <td>0.867817</td>\n",
       "      <td>0.851618</td>\n",
       "    </tr>\n",
       "    <tr>\n",
       "      <th>5</th>\n",
       "      <td>IYD_5</td>\n",
       "      <td>0.986393</td>\n",
       "      <td>0.984638</td>\n",
       "      <td>0.986133</td>\n",
       "      <td>0.985721</td>\n",
       "    </tr>\n",
       "    <tr>\n",
       "      <th>6</th>\n",
       "      <td>IYD_P0</td>\n",
       "      <td>0.302249</td>\n",
       "      <td>0.311547</td>\n",
       "      <td>0.290358</td>\n",
       "      <td>0.301385</td>\n",
       "    </tr>\n",
       "    <tr>\n",
       "      <th>7</th>\n",
       "      <td>IYD_P1</td>\n",
       "      <td>0.995294</td>\n",
       "      <td>0.995800</td>\n",
       "      <td>0.995310</td>\n",
       "      <td>0.995468</td>\n",
       "    </tr>\n",
       "    <tr>\n",
       "      <th>8</th>\n",
       "      <td>IYD_P2</td>\n",
       "      <td>0.997446</td>\n",
       "      <td>0.997724</td>\n",
       "      <td>0.996914</td>\n",
       "      <td>0.997361</td>\n",
       "    </tr>\n",
       "  </tbody>\n",
       "</table>\n",
       "</div>"
      ]
     },
     "execution_count": 21,
     "metadata": {},
     "output_type": "execute_result"
    }
   ],
   "execution_count": 21
  }
 ],
 "metadata": {
  "kernelspec": {
   "display_name": "Python 3",
   "language": "python",
   "name": "python3"
  },
  "language_info": {
   "codemirror_mode": {
    "name": "ipython",
    "version": 2
   },
   "file_extension": ".py",
   "mimetype": "text/x-python",
   "name": "python",
   "nbconvert_exporter": "python",
   "pygments_lexer": "ipython2",
   "version": "2.7.6"
  }
 },
 "nbformat": 4,
 "nbformat_minor": 5
}
